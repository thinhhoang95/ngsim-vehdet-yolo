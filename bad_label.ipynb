{
 "cells": [
  {
   "cell_type": "code",
   "execution_count": 12,
   "metadata": {},
   "outputs": [],
   "source": [
    "# list all the files\n",
    "\n",
    "import os\n",
    "import glob\n",
    "\n",
    "# get the train/labelTxt folder path\n",
    "path = os.getcwd() + '/train/labelTxt'\n",
    "# get all the files in the folder\n",
    "files = glob.glob(path + '/*.txt')\n"
   ]
  },
  {
   "cell_type": "code",
   "execution_count": 13,
   "metadata": {},
   "outputs": [
    {
     "name": "stdout",
     "output_type": "stream",
     "text": [
      "Deleting one line from /Users/thinhhoang/Downloads/verdet-2/train/labelTxt/frame2688_jpg.rf.c58e3280136c7f0757949d2ca0081c1e.txt\n",
      "Deleting one line from /Users/thinhhoang/Downloads/verdet-2/train/labelTxt/frame3739_jpg.rf.2d3855a90364aa8a25be433aa4b000c3.txt\n",
      "Deleting one line from /Users/thinhhoang/Downloads/verdet-2/train/labelTxt/frame3739_jpg.rf.2d3855a90364aa8a25be433aa4b000c3.txt\n",
      "Deleting one line from /Users/thinhhoang/Downloads/verdet-2/train/labelTxt/frame2693_jpg.rf.80e5111e5232a2d6e1a5f4394c3dc43a.txt\n",
      "Deleting one line from /Users/thinhhoang/Downloads/verdet-2/train/labelTxt/frame2693_jpg.rf.80e5111e5232a2d6e1a5f4394c3dc43a.txt\n",
      "Deleting one line from /Users/thinhhoang/Downloads/verdet-2/train/labelTxt/frame2182_jpg.rf.7c54e6fd758e736f692c463883109f1b.txt\n",
      "Deleting one line from /Users/thinhhoang/Downloads/verdet-2/train/labelTxt/frame3040_jpg.rf.4393819a194c98b8880ac68cea1dbb57.txt\n",
      "Deleting one line from /Users/thinhhoang/Downloads/verdet-2/train/labelTxt/frame3040_jpg.rf.4393819a194c98b8880ac68cea1dbb57.txt\n",
      "Deleting one line from /Users/thinhhoang/Downloads/verdet-2/train/labelTxt/frame3040_jpg.rf.4393819a194c98b8880ac68cea1dbb57.txt\n",
      "Deleting one line from /Users/thinhhoang/Downloads/verdet-2/train/labelTxt/frame3040_jpg.rf.4393819a194c98b8880ac68cea1dbb57.txt\n",
      "Deleting one line from /Users/thinhhoang/Downloads/verdet-2/train/labelTxt/frame3976_jpg.rf.a319cce53905ac537dc6482f470745e2.txt\n",
      "Deleting one line from /Users/thinhhoang/Downloads/verdet-2/train/labelTxt/frame3764_jpg.rf.c79e0f8ac5316c4e217b598f8bdf6224.txt\n",
      "Deleting one line from /Users/thinhhoang/Downloads/verdet-2/train/labelTxt/frame1987_jpg.rf.00b2e6a19087477687a9a5f37777ab1f.txt\n",
      "Deleting one line from /Users/thinhhoang/Downloads/verdet-2/train/labelTxt/frame1987_jpg.rf.00b2e6a19087477687a9a5f37777ab1f.txt\n",
      "Deleting one line from /Users/thinhhoang/Downloads/verdet-2/train/labelTxt/frame1987_jpg.rf.00b2e6a19087477687a9a5f37777ab1f.txt\n",
      "Deleting one line from /Users/thinhhoang/Downloads/verdet-2/train/labelTxt/frame244_jpg.rf.e2c70c956328023297c0cb966f927314.txt\n",
      "Deleting one line from /Users/thinhhoang/Downloads/verdet-2/train/labelTxt/frame244_jpg.rf.e2c70c956328023297c0cb966f927314.txt\n",
      "Deleting one line from /Users/thinhhoang/Downloads/verdet-2/train/labelTxt/frame3291_jpg.rf.e5753103b371c9caef2bb36061bddfdd.txt\n",
      "Deleting one line from /Users/thinhhoang/Downloads/verdet-2/train/labelTxt/frame3689_jpg.rf.0da255a9f838bf4391fd5296ab67d55d.txt\n",
      "Deleting one line from /Users/thinhhoang/Downloads/verdet-2/train/labelTxt/frame1992_jpg.rf.694a92265ae363d9733b8e6c024cc94d.txt\n",
      "Deleting one line from /Users/thinhhoang/Downloads/verdet-2/train/labelTxt/frame1992_jpg.rf.694a92265ae363d9733b8e6c024cc94d.txt\n",
      "Deleting one line from /Users/thinhhoang/Downloads/verdet-2/train/labelTxt/frame1992_jpg.rf.694a92265ae363d9733b8e6c024cc94d.txt\n",
      "Deleting one line from /Users/thinhhoang/Downloads/verdet-2/train/labelTxt/frame1992_jpg.rf.694a92265ae363d9733b8e6c024cc94d.txt\n",
      "Deleting one line from /Users/thinhhoang/Downloads/verdet-2/train/labelTxt/frame2382_jpg.rf.bf150c337b9cca5d13321b34ce5fa91a.txt\n",
      "Deleting one line from /Users/thinhhoang/Downloads/verdet-2/train/labelTxt/frame2382_jpg.rf.bf150c337b9cca5d13321b34ce5fa91a.txt\n",
      "Deleting one line from /Users/thinhhoang/Downloads/verdet-2/train/labelTxt/frame1813_jpg.rf.a497f74a8a3e64c829e8ae07db80b309.txt\n",
      "Deleting one line from /Users/thinhhoang/Downloads/verdet-2/train/labelTxt/frame1813_jpg.rf.a497f74a8a3e64c829e8ae07db80b309.txt\n",
      "Deleting one line from /Users/thinhhoang/Downloads/verdet-2/train/labelTxt/frame3820_jpg.rf.7ec0b8d61c95659b0e8073718a30ca26.txt\n",
      "Deleting one line from /Users/thinhhoang/Downloads/verdet-2/train/labelTxt/frame3820_jpg.rf.7ec0b8d61c95659b0e8073718a30ca26.txt\n",
      "Deleting one line from /Users/thinhhoang/Downloads/verdet-2/train/labelTxt/frame3820_jpg.rf.7ec0b8d61c95659b0e8073718a30ca26.txt\n",
      "Deleting one line from /Users/thinhhoang/Downloads/verdet-2/train/labelTxt/frame3820_jpg.rf.7ec0b8d61c95659b0e8073718a30ca26.txt\n",
      "Deleting one line from /Users/thinhhoang/Downloads/verdet-2/train/labelTxt/frame2283_jpg.rf.9b933b4c0aeaac687b960d3815360692.txt\n",
      "Deleting one line from /Users/thinhhoang/Downloads/verdet-2/train/labelTxt/frame4233_jpg.rf.2901922816cdd430b0e4ebeff6ccea4d.txt\n",
      "Deleting one line from /Users/thinhhoang/Downloads/verdet-2/train/labelTxt/frame4233_jpg.rf.2901922816cdd430b0e4ebeff6ccea4d.txt\n",
      "Deleting one line from /Users/thinhhoang/Downloads/verdet-2/train/labelTxt/frame4233_jpg.rf.2901922816cdd430b0e4ebeff6ccea4d.txt\n",
      "Deleting one line from /Users/thinhhoang/Downloads/verdet-2/train/labelTxt/frame3209_jpg.rf.cad453bafddef8115adc9a0c49d5dbde.txt\n",
      "Deleting one line from /Users/thinhhoang/Downloads/verdet-2/train/labelTxt/frame2055_jpg.rf.526b579818c5bb152f01c05c7f7ab8af.txt\n",
      "Deleting one line from /Users/thinhhoang/Downloads/verdet-2/train/labelTxt/frame4010_jpg.rf.23c9cf25e2333a253bfefab3b7d49af7.txt\n",
      "Deleting one line from /Users/thinhhoang/Downloads/verdet-2/train/labelTxt/frame1966_jpg.rf.85bc4e48b792961c39346228cf4269f0.txt\n",
      "Deleting one line from /Users/thinhhoang/Downloads/verdet-2/train/labelTxt/frame1966_jpg.rf.85bc4e48b792961c39346228cf4269f0.txt\n",
      "Done\n"
     ]
    }
   ],
   "source": [
    "\n",
    "for path in files:\n",
    "    # read the txt file, line by line\n",
    "    with open(path, 'r') as f:\n",
    "        lines = f.readlines()\n",
    "        new_lines = []\n",
    "        for line in lines:\n",
    "              # split the line by space\n",
    "              line = line.split(' ')\n",
    "              # check if there is any negative value in the first 8 values\n",
    "              valid = True\n",
    "              for i in range(8):\n",
    "                    if float(line[i]) < 0:\n",
    "                        valid = False \n",
    "                        print('Deleting one line from {}'.format(path))\n",
    "              if valid:\n",
    "                    new_lines.append(line)\n",
    "        # write the new lines to the txt file\n",
    "        with open(path, 'w') as f:\n",
    "            for line in new_lines:\n",
    "                f.write(' '.join(line))\n",
    "\n",
    "print('Done')"
   ]
  },
  {
   "cell_type": "code",
   "execution_count": null,
   "metadata": {},
   "outputs": [],
   "source": []
  },
  {
   "cell_type": "code",
   "execution_count": 9,
   "metadata": {},
   "outputs": [
    {
     "data": {
      "text/plain": [
       "['131.9999999999891 -0.000012202216834500797 132.0000049324517 38.999995464375594 95.99999560306969 38.999975914612705 96.0000004450194 0.000003168984871127551 cars 0\\n',\n",
       " '83.9999881541371 70.99982604068857 84.00001629215694 102.99994566408495 55.999999337946065 103.0000699315911 56.000000311232725 71.00006464302481 cars 0\\n',\n",
       " '16.41378355476263 120.1377332331194 15.558636688256229 161.18613520003544 0 156 0.8551766116943327 114.95172744012821 cars 0\\n',\n",
       " '26.999990606473148 157.99997603537875 27.000024039789423 124.99991280075383 51.99999336004112 125.00020047006882 52.00000348888352 158.00008098471056 cars 0\\n',\n",
       " '51.216290614429454 255.39390936460902 50.50252256292879 224.39359732660094 74.68876508357425 215.48366702092338 75.40259204672111 246.48371281933237 cars 0\\n',\n",
       " '111.36886377145856 218.4292133825599 110.9026111129424 190.0781484145283 131.53371279602652 184.64948128046157 132.00000606057074 213.0003684843664 cars 0\\n',\n",
       " '17.197545644739876 376.9670175718392 16.835375047430716 342.19381561996045 41.708790257544024 338.04880140566763 42.07107096732216 372.82154096151316 cars 0\\n',\n",
       " '49.10886273768483 407.29186894062224 48.81952199897569 382.59547650667025 73.8699093688956 377.8996591265223 74.15933600663266 402.59568914696683 cars 0\\n',\n",
       " '79.01911313741948 394.28424889708515 78.87703423184576 362.4370984991811 102.90946415703729 360.72151677430065 103.05164867755593 392.5682300511931 cars 0\\n',\n",
       " '87.08607710852448 450.05708846243516 86.9812232635195 423.18851993974647 107.91751254184419 421.88107720309426 108.02245615910579 448.74928023288555 cars 0\\n',\n",
       " '140.9999482270905 438.9992027792977 141.00009180956476 471.999774574542 112.99999328281046 472.00033245338267 113.00000617191472 439.00038568977544 cars 0\\n',\n",
       " '48.88272728681841 475.6228267970392 49.2320332784584 503.55331505405553 26.127204149343015 508.17464888619867 25.778021653131873 480.2446296289805 cars 0\\n',\n",
       " '54.85871962706369 521.5857862291673 55.03500880826323 493.4032528542301 77.10244970774511 495.6109232579953 76.92628095612235 523.7929867775117 cars 0\\n',\n",
       " '95.20912175326885 638.1054163491871 94.94230655403953 606.0737897511374 115.80242103800629 603.2939230475637 116.06938523156714 635.3249325089552 cars 0\\n',\n",
       " '0 594 27 594 27 627 0 627 cars 0\\n',\n",
       " '27 596 53 596 53 630 27 630 cars 0\\n',\n",
       " '57 606 84 606 84 640 57 640 cars 0']"
      ]
     },
     "execution_count": 9,
     "metadata": {},
     "output_type": "execute_result"
    }
   ],
   "source": [
    "lines"
   ]
  },
  {
   "cell_type": "code",
   "execution_count": null,
   "metadata": {},
   "outputs": [],
   "source": []
  }
 ],
 "metadata": {
  "kernelspec": {
   "display_name": "liberty",
   "language": "python",
   "name": "python3"
  },
  "language_info": {
   "codemirror_mode": {
    "name": "ipython",
    "version": 3
   },
   "file_extension": ".py",
   "mimetype": "text/x-python",
   "name": "python",
   "nbconvert_exporter": "python",
   "pygments_lexer": "ipython3",
   "version": "3.8.13"
  },
  "orig_nbformat": 4
 },
 "nbformat": 4,
 "nbformat_minor": 2
}
